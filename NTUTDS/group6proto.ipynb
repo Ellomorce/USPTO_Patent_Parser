{
  "cells": [
    {
      "cell_type": "code",
      "execution_count": null,
      "metadata": {},
      "outputs": [],
      "source": [
        "#如果在Windows或Linux環境上請跑此段。\n",
        "#請先pip install gdown.\n",
        "import gdown\n",
        "\n",
        "url = 'https://drive.google.com/uc?export=download&id=10G2D9fm3UL92W2UuKdrw4bzJkDu0OflJ'\n",
        "output = '/Code/NTUTDS/patent_documents/patentdoc.tar.gz'\n",
        "#請使用自己的path\n",
        "gdown.download(url, output, quiet=False)"
      ]
    },
    {
      "cell_type": "code",
      "execution_count": 21,
      "metadata": {},
      "outputs": [],
      "source": [
        "#如果在Windows或Linux環境上請跑此段。\n",
        "import os\n",
        "import tarfile\n",
        "\n",
        "def tar_extract(file_path):\n",
        "    tar = tarfile.open(file_path, 'r:gz')\n",
        "    tar.extractall()\n",
        "    tar.close()\n",
        "\n",
        "if __name__ == '__main__':\n",
        "    file_path = '/Code/NTUTDS/patent_documents/patentdoc.tar.gz'\n",
        "    tar_extract(file_path)\n",
        "#請使用自己的path"
      ]
    },
    {
      "cell_type": "code",
      "execution_count": null,
      "metadata": {},
      "outputs": [],
      "source": [
        "#老師原始程式碼，在Colab上請跑此段。\n",
        "#!wget \"https://drive.google.com/uc?export=download&id=10G2D9fm3UL92W2UuKdrw4bzJkDu0OflJ\" -O patentdoc.tar.gz\n",
        "#!tar xvfz patentdoc.tar.gz"
      ]
    },
    {
      "cell_type": "code",
      "execution_count": null,
      "metadata": {},
      "outputs": [],
      "source": [
        "#資料抓取與處理\n",
        "import pprint\n",
        "from bs4 import BeautifulSoup\n",
        "path = \"patent_documents\"\n",
        "patent_csv = {}\n",
        "patent_number = []\n",
        "pub_date = [] \n",
        "country = []\n",
        "app_type = []\n",
        "app_date = []\n",
        "patent_title = []\n",
        "patent_abstract = []\n",
        "applicant_name = []\n",
        "inv_name = []\n",
        "ipc_list = []\n",
        "for filename in os.listdir(path):\n",
        "  if filename.endswith(\".txt\"):\n",
        "    with open(os.path.join(path, filename), 'r') as f:\n",
        "      soup = BeautifulSoup(f.read(), 'xml')\n",
        "      panum = soup.find(\"publication-reference\").findChild(\"doc-number\").contents # contents抓出來的東西資料類型是list...\n",
        "      for pn in panum:\n",
        "            patent_number.append(pn)\n",
        "      pdate = soup.find(\"publication-reference\").findChild(\"date\").contents\n",
        "      for pd in pdate:\n",
        "             pub_date.append(pd)\n",
        "      ctry = soup.find(\"publication-reference\").findChild(\"country\").contents\n",
        "      for ct in ctry:\n",
        "            country.append(ct)\n",
        "      app_ref = soup.find(\"application-reference\") #這個不要輸出\n",
        "      atype = [app_ref['appl-type']]\n",
        "      for at in atype:\n",
        "            app_type.append(at)\n",
        "      adate = app_ref.findChild(\"date\").contents\n",
        "      for ad in adate:\n",
        "            app_date.append(ad)\n",
        "      ptitle = [soup.find(\"invention-title\").getText()] #要想辦法再把/n去掉\n",
        "      for pt in ptitle:\n",
        "            patent_title.append(pt)\n",
        "      pabs = [soup.find(\"abstract\").getText()] #要想辦法再把/n去掉\n",
        "      for ab in pabs:\n",
        "            patent_abstract.append(ab)\n",
        "      #Agents = soup.find(\"orgname\").getText() #如果文件沒有orgname這邊會return error\n",
        "      us_applicants = soup.find(\"us-applicants\") #這個不要輸出\n",
        "      app_firstname = us_applicants.findChild(\"first-name\").contents\n",
        "      app_lastname = us_applicants.findChild(\"last-name\").contents\n",
        "      aname = [' '.join([a+b for a,b in zip(app_firstname,app_lastname)])] #記得之後要解決a跟b中間沒空格的問題 \n",
        "      for an in aname:\n",
        "               applicant_name.append(an)\n",
        "      inventors = soup.find(\"inventors\") #這個不要輸出\n",
        "      inv_firstname = inventors.findChild(\"first-name\").contents\n",
        "      inv_lastname = inventors.findChild(\"last-name\").contents\n",
        "      iname = [' '.join([c+d for c,d in zip(inv_firstname,inv_lastname)])] #記得之後要解決a跟b中間沒空格的問題\n",
        "      for ina in iname:\n",
        "            inv_name.append(ina)\n",
        "      ipcr_ref = soup.find(\"classification-ipcr\") #這個不要輸出\n",
        "      ipcr_section = ipcr_ref.findChild(\"section\").contents\n",
        "      ipcr_class = ipcr_ref.findChild(\"class\").contents\n",
        "      for class_num in ipcr_class:\n",
        "            if len(str(class_num))==1:\n",
        "                  class_num = str(\"0\") + class_num\n",
        "      ipcr_subclass = ipcr_ref.findChild(\"subclass\").contents\n",
        "      ipcs = [' '.join([d+e+f for d,e,f in zip(ipcr_section,ipcr_class,ipcr_subclass)])]\n",
        "      for ip in ipcs:\n",
        "            ipc_list.append(ip)\n",
        "\n",
        "patent_csv = {\"1.Patent Number\":list(patent_number),\"2.Publication Date\":list(pub_date),\"3.Application Date\":list(app_date),\"4.Country\":list(country),\"5.Application Type\":list(app_type),\"6.Title\":list(patent_title),\"7.Abstract\":list(patent_abstract),\"8.Applicant\":list(applicant_name),\"9.Inventor\":list(inv_name),\"IPCs\":list(ipc_list)}\n",
        "\n",
        "type(patent_csv)\n",
        "\n",
        "patent_csv.pop('7.Abstract', None)\n",
        "\n",
        "print(len(patent_csv))\n",
        "pprint.pprint(patent_csv)\n"
      ]
    },
    {
      "cell_type": "code",
      "execution_count": 41,
      "metadata": {},
      "outputs": [],
      "source": [
        "#使用Pandas匯出表格並存成CSV，也可以匯出給關聯式資料庫\n",
        "import pandas as pd\n",
        "df = pd.DataFrame.from_dict(patent_csv,orient='index').T\n",
        "df.head(10)\n",
        "df.to_csv(\"patent_table.csv\",index=False)"
      ]
    },
    {
      "cell_type": "code",
      "execution_count": null,
      "metadata": {},
      "outputs": [],
      "source": [
        "#Deal only claim texts\n",
        "import pprint\n",
        "path = \"patent_documents\"\n",
        "patent_docs_txt = {}\n",
        "for filename in os.listdir(path):\n",
        "  if filename.endswith(\".txt\"):\n",
        "    with open(os.path.join(path, filename), 'r') as f:\n",
        "      soup = BeautifulSoup(f.read(), 'xml')\n",
        "      tag = soup.find_all(\"claims\")\n",
        "      patent_docs_txt[filename] = tag[0].text.lower().replace('\\n',' ')\n",
        "\n",
        "pprint.pprint(patent_docs_txt, depth=1, width=10000)"
      ]
    },
    {
      "cell_type": "code",
      "execution_count": null,
      "metadata": {
        "colab": {
          "base_uri": "https://localhost:8080/"
        },
        "id": "bljWYPMPpTSo",
        "outputId": "c391ecf0-20c2-4b69-cd25-5d6c09d5232a"
      },
      "outputs": [],
      "source": [
        "import nltk\n",
        "import re\n",
        "\n",
        "print(nltk.__version__)\n",
        "nltk.download('punkt')\n",
        "nltk.download('stopwords')\n",
        "nltk_stopwords = nltk.corpus.stopwords.words('english')\n",
        "\n",
        "def Patent_KW50(patent_text):\n",
        "  tokens = nltk.word_tokenize(patent_text)\n",
        "  fdist = nltk.FreqDist(tokens)\n",
        "  common50 = fdist.most_common(50)\n",
        "  common50_new1 = [(k,v) for k,v in common50 if not re.fullmatch(r\"^.$\", k)]\n",
        "  common50_new2 = [(k,v) for k,v in common50_new1 if re.fullmatch(r\"^[a-z]+$\", k, flags=re.IGNORECASE)]\n",
        "  stopword = list(nltk_stopwords)[:100]\n",
        "  common50_new3 = dict([(k,v) for k,v in common50_new2 if not k in stopword])\n",
        "  return common50_new3\n",
        "\n",
        "patent_docs_KW = {}\n",
        "for doc_name, txt in patent_docs_txt.items():\n",
        "  patent_docs_KW[doc_name] = Patent_KW50(txt)\n",
        "\n",
        "pprint.pprint(patent_docs_KW, width=1000)"
      ]
    },
    {
      "cell_type": "code",
      "execution_count": null,
      "metadata": {
        "colab": {
          "base_uri": "https://localhost:8080/",
          "height": 1000
        },
        "id": "nOulhJ7g5mJS",
        "outputId": "1d5cfc00-cf48-4b85-e97f-88841993fdf9"
      },
      "outputs": [],
      "source": [
        "import numpy as np \n",
        "import matplotlib.pyplot as plt\n",
        "from itertools import islice\n",
        "\n",
        "plt.clf()\n",
        "\n",
        "for doc_name, KW_stat in patent_docs_KW.items():\n",
        "  common20 = dict(islice(KW_stat.items(), 20))\n",
        "  print(common20)\n",
        "  x = np.arange(20)\n",
        "  y = common20.values()\n",
        "  plt.title( doc_name, fontsize=8, color='g')\n",
        "  plt.xticks(x, common20.keys(),  rotation='vertical')\n",
        "  plt.bar(x, y, color='y')\n",
        "  plt.show()"
      ]
    }
  ],
  "metadata": {
    "colab": {
      "name": "Patent_parser.ipynb",
      "provenance": []
    },
    "interpreter": {
      "hash": "ecf5722fdaf1897a315d257d89d94520bfcaa453217d5becf09b39e73618b0de"
    },
    "kernelspec": {
      "display_name": "Python 3.9.5 64-bit ('base': conda)",
      "name": "python3"
    },
    "language_info": {
      "codemirror_mode": {
        "name": "ipython",
        "version": 3
      },
      "file_extension": ".py",
      "mimetype": "text/x-python",
      "name": "python",
      "nbconvert_exporter": "python",
      "pygments_lexer": "ipython3",
      "version": "3.9.5"
    }
  },
  "nbformat": 4,
  "nbformat_minor": 2
}
